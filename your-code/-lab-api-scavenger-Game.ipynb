{
  "cells": [
    {
      "cell_type": "markdown",
      "id": "2eaf369f",
      "metadata": {
        "id": "2eaf369f"
      },
      "source": [
        "### Your lab resolution :"
      ]
    },
    {
      "cell_type": "code",
      "execution_count": null,
      "id": "2d50b6ab",
      "metadata": {
        "id": "2d50b6ab",
        "outputId": "ebcece5f-a16d-4bb5-a6c2-1841d9004d9d"
      },
      "outputs": [
        {
          "name": "stdout",
          "output_type": "stream",
          "text": [
            "Requirement already satisfied: requests in c:\\users\\admin\\anaconda3\\lib\\site-packages (2.29.0)\n",
            "Requirement already satisfied: charset-normalizer<4,>=2 in c:\\users\\admin\\anaconda3\\lib\\site-packages (from requests) (2.0.4)\n",
            "Requirement already satisfied: idna<4,>=2.5 in c:\\users\\admin\\anaconda3\\lib\\site-packages (from requests) (3.4)\n",
            "Requirement already satisfied: urllib3<1.27,>=1.21.1 in c:\\users\\admin\\anaconda3\\lib\\site-packages (from requests) (1.26.16)\n",
            "Requirement already satisfied: certifi>=2017.4.17 in c:\\users\\admin\\anaconda3\\lib\\site-packages (from requests) (2023.5.7)\n"
          ]
        }
      ],
      "source": [
        "!pip install requests"
      ]
    },
    {
      "cell_type": "code",
      "execution_count": null,
      "id": "4dd422fe",
      "metadata": {
        "id": "4dd422fe"
      },
      "outputs": [],
      "source": [
        "import requests\n",
        "import json"
      ]
    },
    {
      "cell_type": "code",
      "execution_count": null,
      "id": "89796ba2",
      "metadata": {
        "id": "89796ba2"
      },
      "outputs": [],
      "source": [
        "url = \"https://api.github.com/users/MeenuDSaini/repos\""
      ]
    },
    {
      "cell_type": "code",
      "execution_count": null,
      "id": "efa53a14",
      "metadata": {
        "id": "efa53a14",
        "outputId": "aee8445a-0cc8-4e11-cea5-6fa6ea2db97a"
      },
      "outputs": [
        {
          "data": {
            "text/plain": [
              "<Response [200]>"
            ]
          },
          "execution_count": 26,
          "metadata": {},
          "output_type": "execute_result"
        }
      ],
      "source": [
        "response = requests.get(url)\n",
        "response"
      ]
    },
    {
      "cell_type": "code",
      "execution_count": null,
      "id": "635b4a7e",
      "metadata": {
        "id": "635b4a7e",
        "outputId": "47cb0bb5-16d1-4335-db40-94b91ca5f0d3"
      },
      "outputs": [
        {
          "data": {
            "text/plain": [
              "200"
            ]
          },
          "execution_count": 27,
          "metadata": {},
          "output_type": "execute_result"
        }
      ],
      "source": [
        "response.status_code"
      ]
    },
    {
      "cell_type": "code",
      "execution_count": null,
      "id": "b30b5a87",
      "metadata": {
        "id": "b30b5a87"
      },
      "outputs": [],
      "source": [
        "response.json()"
      ]
    },
    {
      "cell_type": "code",
      "execution_count": null,
      "id": "6c94489a",
      "metadata": {
        "id": "6c94489a",
        "outputId": "5251a639-7125-427e-b158-ab9582fae2cf"
      },
      "outputs": [
        {
          "name": "stdout",
          "output_type": "stream",
          "text": [
            "['Jupyter Notebook']\n"
          ]
        }
      ],
      "source": [
        "from password import Token\n",
        "\n",
        "username = \"MeenuDSaini\"\n",
        "\n",
        "repo = \"ironhack-datalabs/bcn-feb-2019\"\n",
        "url = \"https://api.github.com/users/MeenuDSaini/repos\"\n",
        "\n",
        "headers = {\"Authorization\": f\"token {Token}\"}\n",
        "\n",
        "\n",
        "response = requests.get(url, headers=headers)\n",
        "response\n",
        "\n",
        "forks = response.json()\n",
        "unique_languages = set()\n",
        "\n",
        "for fork in forks:\n",
        "    language = fork[\"language\"]\n",
        "    if language:\n",
        "        unique_languages.add(language)\n",
        "\n",
        "\n",
        "print(list(unique_languages))\n",
        "\n",
        "\n"
      ]
    },
    {
      "cell_type": "code",
      "execution_count": null,
      "id": "b03f7b96",
      "metadata": {
        "id": "b03f7b96"
      },
      "outputs": [],
      "source": [
        "import requests\n",
        "from datetime import datetime, timedelta"
      ]
    },
    {
      "cell_type": "code",
      "execution_count": null,
      "id": "c2f68d0b",
      "metadata": {
        "id": "c2f68d0b"
      },
      "outputs": [],
      "source": [
        "url: \"https://api.github.com/search/commits?q={query}{&page,per_page,sort,order}\"\n",
        "repo = \"ta-data-pt-rmt/lab-mysql-first-queries\""
      ]
    },
    {
      "cell_type": "code",
      "execution_count": null,
      "id": "bbb6a475",
      "metadata": {
        "id": "bbb6a475",
        "outputId": "db37d800-198e-4496-94c9-a0cb04149c91"
      },
      "outputs": [
        {
          "data": {
            "text/plain": [
              "<Response [200]>"
            ]
          },
          "execution_count": 32,
          "metadata": {},
          "output_type": "execute_result"
        }
      ],
      "source": [
        "response = requests.get(url)\n",
        "response"
      ]
    },
    {
      "cell_type": "code",
      "execution_count": null,
      "id": "099dbb95",
      "metadata": {
        "id": "099dbb95",
        "outputId": "54a63d41-e6e3-47cb-d62e-6370475ffa44"
      },
      "outputs": [
        {
          "name": "stdout",
          "output_type": "stream",
          "text": [
            "Number of commits in the past 3 weeks: 8\n"
          ]
        }
      ],
      "source": [
        "current_time = datetime.now()\n",
        "three_weeks = timedelta(weeks=3)\n",
        "\n",
        "three_weeks_ago = (current_time - three_weeks)\n",
        "\n",
        "params = {\"since\": three_weeks_ago}\n",
        "response = requests.get(url, params=params)\n",
        "\n",
        "# Parse the JSON response\n",
        "commits = response.json()\n",
        "if response.status_code == 200:\n",
        "    commits = response.json()\n",
        "    commit_count = len(commits)\n",
        "    print(f\"Number of commits in the past 3 weeks: {commit_count}\")\n",
        "else:\n",
        "    print(\"Error\")"
      ]
    },
    {
      "cell_type": "code",
      "execution_count": null,
      "id": "eeb6e8c4",
      "metadata": {
        "id": "eeb6e8c4"
      },
      "outputs": [],
      "source": []
    },
    {
      "cell_type": "code",
      "execution_count": null,
      "id": "a70841cd",
      "metadata": {
        "id": "a70841cd"
      },
      "outputs": [],
      "source": []
    },
    {
      "cell_type": "code",
      "execution_count": null,
      "id": "bf3c192d",
      "metadata": {
        "id": "bf3c192d"
      },
      "outputs": [],
      "source": []
    },
    {
      "cell_type": "code",
      "execution_count": null,
      "id": "ffc56f76",
      "metadata": {
        "id": "ffc56f76"
      },
      "outputs": [],
      "source": []
    }
  ],
  "metadata": {
    "kernelspec": {
      "display_name": "Python 3 (ipykernel)",
      "language": "python",
      "name": "python3"
    },
    "language_info": {
      "codemirror_mode": {
        "name": "ipython",
        "version": 3
      },
      "file_extension": ".py",
      "mimetype": "text/x-python",
      "name": "python",
      "nbconvert_exporter": "python",
      "pygments_lexer": "ipython3",
      "version": "3.11.3"
    },
    "colab": {
      "provenance": []
    }
  },
  "nbformat": 4,
  "nbformat_minor": 5
}